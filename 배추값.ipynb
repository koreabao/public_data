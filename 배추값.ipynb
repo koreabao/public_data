{
  "nbformat": 4,
  "nbformat_minor": 0,
  "metadata": {
    "colab": {
      "name": "배추값.ipynb",
      "provenance": [],
      "authorship_tag": "ABX9TyMn4q5s0SK1faPVr2UaNier",
      "include_colab_link": true
    },
    "kernelspec": {
      "name": "python3",
      "display_name": "Python 3"
    },
    "language_info": {
      "name": "python"
    }
  },
  "cells": [
    {
      "cell_type": "markdown",
      "metadata": {
        "id": "view-in-github",
        "colab_type": "text"
      },
      "source": [
        "<a href=\"https://colab.research.google.com/github/koreabao/public_data/blob/main/%EB%B0%B0%EC%B6%94%EA%B0%92.ipynb\" target=\"_parent\"><img src=\"https://colab.research.google.com/assets/colab-badge.svg\" alt=\"Open In Colab\"/></a>"
      ]
    },
    {
      "cell_type": "markdown",
      "source": [
        "공공 데이터 사이트 https://www.data.go.kr/\n",
        "\n",
        "인기데이터 -> 더보기 \n",
        "\n",
        "분류체계 - 농축수산\n",
        "\n",
        "서비스유형 - 다운로드\n",
        "\n",
        "확장자 -  xls\n",
        "\n",
        "제목: 한국농수산식품유통공사_농수축산물 도소매가격"
      ],
      "metadata": {
        "id": "4WRMw8N2tUvX"
      }
    }
  ]
}