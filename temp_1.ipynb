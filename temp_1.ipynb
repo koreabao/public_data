{
  "nbformat": 4,
  "nbformat_minor": 0,
  "metadata": {
    "colab": {
      "name": "날씨.ipynb",
      "provenance": [],
      "mount_file_id": "https://github.com/koreabao/public_data/blob/main/temp_1.ipynb",
      "authorship_tag": "ABX9TyNr3RxUTHYv+WcLUYJvb7wN",
      "include_colab_link": true
    },
    "kernelspec": {
      "name": "python3",
      "display_name": "Python 3"
    },
    "language_info": {
      "name": "python"
    }
  },
  "cells": [
    {
      "cell_type": "markdown",
      "metadata": {
        "id": "view-in-github",
        "colab_type": "text"
      },
      "source": [
        "<a href=\"https://colab.research.google.com/github/koreabao/public_data/blob/main/temp_1.ipynb\" target=\"_parent\"><img src=\"https://colab.research.google.com/assets/colab-badge.svg\" alt=\"Open In Colab\"/></a>"
      ]
    },
    {
      "cell_type": "markdown",
      "source": [
        "## **데이터 받기**"
      ],
      "metadata": {
        "id": "GrxplnTWROkv"
      }
    },
    {
      "cell_type": "markdown",
      "source": [
        "### 1. 공공데이터포털 www.data.go.kr \n",
        "### 2. '기상청_단기예보' 검색\n",
        "### 3. https://data.kma.go.kr/data/rmt/rmtList.do?code=420&pgmNo=572\n",
        "### 4. 메뉴 상단에서 기후통계분석 -> 통계분석 ->조건별통계\n",
        "     분류-- 지상\n",
        "     지역/지점--서울,\n",
        "     요소--기온 \n",
        "     기간-- 1904~2021년\n",
        "     조건-- 월별\n",
        "\n",
        "     검색\n",
        "### 5. csv파일 다운받기.파일이름을 날씨.csv로 변경합니다.\n",
        "\n",
        "   파일 속성에서 확인.\n",
        " \n"
      ],
      "metadata": {
        "id": "6GQuQ5eXROiE"
      }
    },
    {
      "cell_type": "markdown",
      "source": [
        "## **데이터 변환**"
      ],
      "metadata": {
        "id": "mSjazGKSTyRv"
      }
    },
    {
      "cell_type": "markdown",
      "source": [
        "### 1. notepad열기 : notepad에서 날씨.csv열기\n",
        "### 2. 파일 상단 필요없는 내용 삭제\n",
        "### 3. 다시 csv파일로 저장하기\n",
        " 파일이름: 날씨_1.csv\n",
        " \n",
        " 파일형식: 모든파일\n",
        " \n",
        " 인코딩(encoding): UTF-8"
      ],
      "metadata": {
        "id": "GLz0LNkWTyH4"
      }
    },
    {
      "cell_type": "markdown",
      "source": [
        "## **데이터 불러오기 및 저장**"
      ],
      "metadata": {
        "id": "JOCUj6fGWdsu"
      }
    },
    {
      "cell_type": "markdown",
      "source": [
        "### 1. file(파일) -> upload -> 파일선택\n",
        "   왼쪽파일모양\n",
        "### 2. google drive에 데이터 저장"
      ],
      "metadata": {
        "id": "MesjgWwDXVHJ"
      }
    },
    {
      "cell_type": "code",
      "execution_count": 1,
      "metadata": {
        "id": "Sh7ri_Z_hQ9F"
      },
      "outputs": [],
      "source": [
        "import pandas as pd"
      ]
    },
    {
      "cell_type": "code",
      "source": [
        "pd.read_csv('날씨_1.csv')"
      ],
      "metadata": {
        "colab": {
          "base_uri": "https://localhost:8080/",
          "height": 315
        },
        "id": "sWvgzHdMWdOZ",
        "outputId": "c72aeadc-b0af-4196-88d4-0c76e75af8ee"
      },
      "execution_count": 2,
      "outputs": [
        {
          "output_type": "error",
          "ename": "FileNotFoundError",
          "evalue": "ignored",
          "traceback": [
            "\u001b[0;31m---------------------------------------------------------------------------\u001b[0m",
            "\u001b[0;31mFileNotFoundError\u001b[0m                         Traceback (most recent call last)",
            "\u001b[0;32m<ipython-input-2-796806dc84eb>\u001b[0m in \u001b[0;36m<module>\u001b[0;34m()\u001b[0m\n\u001b[0;32m----> 1\u001b[0;31m \u001b[0mpd\u001b[0m\u001b[0;34m.\u001b[0m\u001b[0mread_csv\u001b[0m\u001b[0;34m(\u001b[0m\u001b[0;34m'날씨_1.csv'\u001b[0m\u001b[0;34m)\u001b[0m\u001b[0;34m\u001b[0m\u001b[0;34m\u001b[0m\u001b[0m\n\u001b[0m",
            "\u001b[0;32m/usr/local/lib/python3.7/dist-packages/pandas/util/_decorators.py\u001b[0m in \u001b[0;36mwrapper\u001b[0;34m(*args, **kwargs)\u001b[0m\n\u001b[1;32m    309\u001b[0m                     \u001b[0mstacklevel\u001b[0m\u001b[0;34m=\u001b[0m\u001b[0mstacklevel\u001b[0m\u001b[0;34m,\u001b[0m\u001b[0;34m\u001b[0m\u001b[0;34m\u001b[0m\u001b[0m\n\u001b[1;32m    310\u001b[0m                 )\n\u001b[0;32m--> 311\u001b[0;31m             \u001b[0;32mreturn\u001b[0m \u001b[0mfunc\u001b[0m\u001b[0;34m(\u001b[0m\u001b[0;34m*\u001b[0m\u001b[0margs\u001b[0m\u001b[0;34m,\u001b[0m \u001b[0;34m**\u001b[0m\u001b[0mkwargs\u001b[0m\u001b[0;34m)\u001b[0m\u001b[0;34m\u001b[0m\u001b[0;34m\u001b[0m\u001b[0m\n\u001b[0m\u001b[1;32m    312\u001b[0m \u001b[0;34m\u001b[0m\u001b[0m\n\u001b[1;32m    313\u001b[0m         \u001b[0;32mreturn\u001b[0m \u001b[0mwrapper\u001b[0m\u001b[0;34m\u001b[0m\u001b[0;34m\u001b[0m\u001b[0m\n",
            "\u001b[0;32m/usr/local/lib/python3.7/dist-packages/pandas/io/parsers/readers.py\u001b[0m in \u001b[0;36mread_csv\u001b[0;34m(filepath_or_buffer, sep, delimiter, header, names, index_col, usecols, squeeze, prefix, mangle_dupe_cols, dtype, engine, converters, true_values, false_values, skipinitialspace, skiprows, skipfooter, nrows, na_values, keep_default_na, na_filter, verbose, skip_blank_lines, parse_dates, infer_datetime_format, keep_date_col, date_parser, dayfirst, cache_dates, iterator, chunksize, compression, thousands, decimal, lineterminator, quotechar, quoting, doublequote, escapechar, comment, encoding, encoding_errors, dialect, error_bad_lines, warn_bad_lines, on_bad_lines, delim_whitespace, low_memory, memory_map, float_precision, storage_options)\u001b[0m\n\u001b[1;32m    584\u001b[0m     \u001b[0mkwds\u001b[0m\u001b[0;34m.\u001b[0m\u001b[0mupdate\u001b[0m\u001b[0;34m(\u001b[0m\u001b[0mkwds_defaults\u001b[0m\u001b[0;34m)\u001b[0m\u001b[0;34m\u001b[0m\u001b[0;34m\u001b[0m\u001b[0m\n\u001b[1;32m    585\u001b[0m \u001b[0;34m\u001b[0m\u001b[0m\n\u001b[0;32m--> 586\u001b[0;31m     \u001b[0;32mreturn\u001b[0m \u001b[0m_read\u001b[0m\u001b[0;34m(\u001b[0m\u001b[0mfilepath_or_buffer\u001b[0m\u001b[0;34m,\u001b[0m \u001b[0mkwds\u001b[0m\u001b[0;34m)\u001b[0m\u001b[0;34m\u001b[0m\u001b[0;34m\u001b[0m\u001b[0m\n\u001b[0m\u001b[1;32m    587\u001b[0m \u001b[0;34m\u001b[0m\u001b[0m\n\u001b[1;32m    588\u001b[0m \u001b[0;34m\u001b[0m\u001b[0m\n",
            "\u001b[0;32m/usr/local/lib/python3.7/dist-packages/pandas/io/parsers/readers.py\u001b[0m in \u001b[0;36m_read\u001b[0;34m(filepath_or_buffer, kwds)\u001b[0m\n\u001b[1;32m    480\u001b[0m \u001b[0;34m\u001b[0m\u001b[0m\n\u001b[1;32m    481\u001b[0m     \u001b[0;31m# Create the parser.\u001b[0m\u001b[0;34m\u001b[0m\u001b[0;34m\u001b[0m\u001b[0;34m\u001b[0m\u001b[0m\n\u001b[0;32m--> 482\u001b[0;31m     \u001b[0mparser\u001b[0m \u001b[0;34m=\u001b[0m \u001b[0mTextFileReader\u001b[0m\u001b[0;34m(\u001b[0m\u001b[0mfilepath_or_buffer\u001b[0m\u001b[0;34m,\u001b[0m \u001b[0;34m**\u001b[0m\u001b[0mkwds\u001b[0m\u001b[0;34m)\u001b[0m\u001b[0;34m\u001b[0m\u001b[0;34m\u001b[0m\u001b[0m\n\u001b[0m\u001b[1;32m    483\u001b[0m \u001b[0;34m\u001b[0m\u001b[0m\n\u001b[1;32m    484\u001b[0m     \u001b[0;32mif\u001b[0m \u001b[0mchunksize\u001b[0m \u001b[0;32mor\u001b[0m \u001b[0miterator\u001b[0m\u001b[0;34m:\u001b[0m\u001b[0;34m\u001b[0m\u001b[0;34m\u001b[0m\u001b[0m\n",
            "\u001b[0;32m/usr/local/lib/python3.7/dist-packages/pandas/io/parsers/readers.py\u001b[0m in \u001b[0;36m__init__\u001b[0;34m(self, f, engine, **kwds)\u001b[0m\n\u001b[1;32m    809\u001b[0m             \u001b[0mself\u001b[0m\u001b[0;34m.\u001b[0m\u001b[0moptions\u001b[0m\u001b[0;34m[\u001b[0m\u001b[0;34m\"has_index_names\"\u001b[0m\u001b[0;34m]\u001b[0m \u001b[0;34m=\u001b[0m \u001b[0mkwds\u001b[0m\u001b[0;34m[\u001b[0m\u001b[0;34m\"has_index_names\"\u001b[0m\u001b[0;34m]\u001b[0m\u001b[0;34m\u001b[0m\u001b[0;34m\u001b[0m\u001b[0m\n\u001b[1;32m    810\u001b[0m \u001b[0;34m\u001b[0m\u001b[0m\n\u001b[0;32m--> 811\u001b[0;31m         \u001b[0mself\u001b[0m\u001b[0;34m.\u001b[0m\u001b[0m_engine\u001b[0m \u001b[0;34m=\u001b[0m \u001b[0mself\u001b[0m\u001b[0;34m.\u001b[0m\u001b[0m_make_engine\u001b[0m\u001b[0;34m(\u001b[0m\u001b[0mself\u001b[0m\u001b[0;34m.\u001b[0m\u001b[0mengine\u001b[0m\u001b[0;34m)\u001b[0m\u001b[0;34m\u001b[0m\u001b[0;34m\u001b[0m\u001b[0m\n\u001b[0m\u001b[1;32m    812\u001b[0m \u001b[0;34m\u001b[0m\u001b[0m\n\u001b[1;32m    813\u001b[0m     \u001b[0;32mdef\u001b[0m \u001b[0mclose\u001b[0m\u001b[0;34m(\u001b[0m\u001b[0mself\u001b[0m\u001b[0;34m)\u001b[0m\u001b[0;34m:\u001b[0m\u001b[0;34m\u001b[0m\u001b[0;34m\u001b[0m\u001b[0m\n",
            "\u001b[0;32m/usr/local/lib/python3.7/dist-packages/pandas/io/parsers/readers.py\u001b[0m in \u001b[0;36m_make_engine\u001b[0;34m(self, engine)\u001b[0m\n\u001b[1;32m   1038\u001b[0m             )\n\u001b[1;32m   1039\u001b[0m         \u001b[0;31m# error: Too many arguments for \"ParserBase\"\u001b[0m\u001b[0;34m\u001b[0m\u001b[0;34m\u001b[0m\u001b[0;34m\u001b[0m\u001b[0m\n\u001b[0;32m-> 1040\u001b[0;31m         \u001b[0;32mreturn\u001b[0m \u001b[0mmapping\u001b[0m\u001b[0;34m[\u001b[0m\u001b[0mengine\u001b[0m\u001b[0;34m]\u001b[0m\u001b[0;34m(\u001b[0m\u001b[0mself\u001b[0m\u001b[0;34m.\u001b[0m\u001b[0mf\u001b[0m\u001b[0;34m,\u001b[0m \u001b[0;34m**\u001b[0m\u001b[0mself\u001b[0m\u001b[0;34m.\u001b[0m\u001b[0moptions\u001b[0m\u001b[0;34m)\u001b[0m  \u001b[0;31m# type: ignore[call-arg]\u001b[0m\u001b[0;34m\u001b[0m\u001b[0;34m\u001b[0m\u001b[0m\n\u001b[0m\u001b[1;32m   1041\u001b[0m \u001b[0;34m\u001b[0m\u001b[0m\n\u001b[1;32m   1042\u001b[0m     \u001b[0;32mdef\u001b[0m \u001b[0m_failover_to_python\u001b[0m\u001b[0;34m(\u001b[0m\u001b[0mself\u001b[0m\u001b[0;34m)\u001b[0m\u001b[0;34m:\u001b[0m\u001b[0;34m\u001b[0m\u001b[0;34m\u001b[0m\u001b[0m\n",
            "\u001b[0;32m/usr/local/lib/python3.7/dist-packages/pandas/io/parsers/c_parser_wrapper.py\u001b[0m in \u001b[0;36m__init__\u001b[0;34m(self, src, **kwds)\u001b[0m\n\u001b[1;32m     49\u001b[0m \u001b[0;34m\u001b[0m\u001b[0m\n\u001b[1;32m     50\u001b[0m         \u001b[0;31m# open handles\u001b[0m\u001b[0;34m\u001b[0m\u001b[0;34m\u001b[0m\u001b[0;34m\u001b[0m\u001b[0m\n\u001b[0;32m---> 51\u001b[0;31m         \u001b[0mself\u001b[0m\u001b[0;34m.\u001b[0m\u001b[0m_open_handles\u001b[0m\u001b[0;34m(\u001b[0m\u001b[0msrc\u001b[0m\u001b[0;34m,\u001b[0m \u001b[0mkwds\u001b[0m\u001b[0;34m)\u001b[0m\u001b[0;34m\u001b[0m\u001b[0;34m\u001b[0m\u001b[0m\n\u001b[0m\u001b[1;32m     52\u001b[0m         \u001b[0;32massert\u001b[0m \u001b[0mself\u001b[0m\u001b[0;34m.\u001b[0m\u001b[0mhandles\u001b[0m \u001b[0;32mis\u001b[0m \u001b[0;32mnot\u001b[0m \u001b[0;32mNone\u001b[0m\u001b[0;34m\u001b[0m\u001b[0;34m\u001b[0m\u001b[0m\n\u001b[1;32m     53\u001b[0m \u001b[0;34m\u001b[0m\u001b[0m\n",
            "\u001b[0;32m/usr/local/lib/python3.7/dist-packages/pandas/io/parsers/base_parser.py\u001b[0m in \u001b[0;36m_open_handles\u001b[0;34m(self, src, kwds)\u001b[0m\n\u001b[1;32m    227\u001b[0m             \u001b[0mmemory_map\u001b[0m\u001b[0;34m=\u001b[0m\u001b[0mkwds\u001b[0m\u001b[0;34m.\u001b[0m\u001b[0mget\u001b[0m\u001b[0;34m(\u001b[0m\u001b[0;34m\"memory_map\"\u001b[0m\u001b[0;34m,\u001b[0m \u001b[0;32mFalse\u001b[0m\u001b[0;34m)\u001b[0m\u001b[0;34m,\u001b[0m\u001b[0;34m\u001b[0m\u001b[0;34m\u001b[0m\u001b[0m\n\u001b[1;32m    228\u001b[0m             \u001b[0mstorage_options\u001b[0m\u001b[0;34m=\u001b[0m\u001b[0mkwds\u001b[0m\u001b[0;34m.\u001b[0m\u001b[0mget\u001b[0m\u001b[0;34m(\u001b[0m\u001b[0;34m\"storage_options\"\u001b[0m\u001b[0;34m,\u001b[0m \u001b[0;32mNone\u001b[0m\u001b[0;34m)\u001b[0m\u001b[0;34m,\u001b[0m\u001b[0;34m\u001b[0m\u001b[0;34m\u001b[0m\u001b[0m\n\u001b[0;32m--> 229\u001b[0;31m             \u001b[0merrors\u001b[0m\u001b[0;34m=\u001b[0m\u001b[0mkwds\u001b[0m\u001b[0;34m.\u001b[0m\u001b[0mget\u001b[0m\u001b[0;34m(\u001b[0m\u001b[0;34m\"encoding_errors\"\u001b[0m\u001b[0;34m,\u001b[0m \u001b[0;34m\"strict\"\u001b[0m\u001b[0;34m)\u001b[0m\u001b[0;34m,\u001b[0m\u001b[0;34m\u001b[0m\u001b[0;34m\u001b[0m\u001b[0m\n\u001b[0m\u001b[1;32m    230\u001b[0m         )\n\u001b[1;32m    231\u001b[0m \u001b[0;34m\u001b[0m\u001b[0m\n",
            "\u001b[0;32m/usr/local/lib/python3.7/dist-packages/pandas/io/common.py\u001b[0m in \u001b[0;36mget_handle\u001b[0;34m(path_or_buf, mode, encoding, compression, memory_map, is_text, errors, storage_options)\u001b[0m\n\u001b[1;32m    705\u001b[0m                 \u001b[0mencoding\u001b[0m\u001b[0;34m=\u001b[0m\u001b[0mioargs\u001b[0m\u001b[0;34m.\u001b[0m\u001b[0mencoding\u001b[0m\u001b[0;34m,\u001b[0m\u001b[0;34m\u001b[0m\u001b[0;34m\u001b[0m\u001b[0m\n\u001b[1;32m    706\u001b[0m                 \u001b[0merrors\u001b[0m\u001b[0;34m=\u001b[0m\u001b[0merrors\u001b[0m\u001b[0;34m,\u001b[0m\u001b[0;34m\u001b[0m\u001b[0;34m\u001b[0m\u001b[0m\n\u001b[0;32m--> 707\u001b[0;31m                 \u001b[0mnewline\u001b[0m\u001b[0;34m=\u001b[0m\u001b[0;34m\"\"\u001b[0m\u001b[0;34m,\u001b[0m\u001b[0;34m\u001b[0m\u001b[0;34m\u001b[0m\u001b[0m\n\u001b[0m\u001b[1;32m    708\u001b[0m             )\n\u001b[1;32m    709\u001b[0m         \u001b[0;32melse\u001b[0m\u001b[0;34m:\u001b[0m\u001b[0;34m\u001b[0m\u001b[0;34m\u001b[0m\u001b[0m\n",
            "\u001b[0;31mFileNotFoundError\u001b[0m: [Errno 2] No such file or directory: '날씨_1.csv'"
          ]
        }
      ]
    },
    {
      "cell_type": "code",
      "source": [
        "tp = pd.read_csv('날씨_1.csv')\n",
        "tp"
      ],
      "metadata": {
        "id": "UYh4IPuVTxz6"
      },
      "execution_count": null,
      "outputs": []
    },
    {
      "cell_type": "code",
      "source": [
        "#tp.shape"
      ],
      "metadata": {
        "id": "4Lg_LygAUnil"
      },
      "execution_count": null,
      "outputs": []
    },
    {
      "cell_type": "code",
      "source": [
        "#tp.info()"
      ],
      "metadata": {
        "id": "TZYXJCaiVc4i"
      },
      "execution_count": null,
      "outputs": []
    },
    {
      "cell_type": "code",
      "source": [
        "#tp.isnull()"
      ],
      "metadata": {
        "id": "1EUPrze8Wh8j"
      },
      "execution_count": null,
      "outputs": []
    },
    {
      "cell_type": "code",
      "source": [
        "#True == 1"
      ],
      "metadata": {
        "id": "ce2VVjjtWPp6"
      },
      "execution_count": null,
      "outputs": []
    },
    {
      "cell_type": "code",
      "source": [
        "#False == 0"
      ],
      "metadata": {
        "id": "KVZ7xu_aWTey"
      },
      "execution_count": null,
      "outputs": []
    },
    {
      "cell_type": "code",
      "source": [
        "#tp.isnull().sum()"
      ],
      "metadata": {
        "id": "8H2HQme4V_zD"
      },
      "execution_count": null,
      "outputs": []
    },
    {
      "cell_type": "code",
      "source": [
        "#tp['평균기온(℃)']"
      ],
      "metadata": {
        "id": "YqcOeYbpXA_5"
      },
      "execution_count": null,
      "outputs": []
    },
    {
      "cell_type": "code",
      "source": [
        "from google.colab import drive\n",
        "drive.mount('/content/drive/')"
      ],
      "metadata": {
        "id": "JO9qwfQSROKS"
      },
      "execution_count": null,
      "outputs": []
    },
    {
      "cell_type": "markdown",
      "source": [
        "### **tp를 google drive에 저장한다.**\n",
        "이름은  gtp(google drive 에 있는tp) "
      ],
      "metadata": {
        "id": "8zp-H9xmmuTT"
      }
    },
    {
      "cell_type": "code",
      "source": [
        "tp.to_csv('/content/drive/MyDrive/gtp.csv')"
      ],
      "metadata": {
        "id": "pFoN9Jhrmtwz"
      },
      "execution_count": null,
      "outputs": []
    },
    {
      "cell_type": "code",
      "source": [
        "pd.read_csv('/content/drive/MyDrive/gtp.csv')"
      ],
      "metadata": {
        "id": "f5T0N3dy5aQW"
      },
      "execution_count": null,
      "outputs": []
    },
    {
      "cell_type": "markdown",
      "source": [
        "**index 없이 데이터 저장**\n",
        "\n",
        "index 없이 저장 하고 싶다면 매개변수 'index=None'을 입력합니다. \n",
        "변수 이름을  gtp_1.csv로 저장한다."
      ],
      "metadata": {
        "id": "ohd3pG_g52Kp"
      }
    },
    {
      "cell_type": "code",
      "source": [
        "tp.to_csv('/content/drive/MyDrive/gtp_1.csv', index=None)"
      ],
      "metadata": {
        "id": "V8D6MwdDojq6"
      },
      "execution_count": null,
      "outputs": []
    },
    {
      "cell_type": "code",
      "source": [
        "pd.read_csv('/content/drive/MyDrive/gtp_1.csv')"
      ],
      "metadata": {
        "colab": {
          "base_uri": "https://localhost:8080/",
          "height": 424
        },
        "id": "eV3suFt0pCYW",
        "outputId": "bfbeead7-1ef3-4a0a-c552-bb4d55c28863"
      },
      "execution_count": 3,
      "outputs": [
        {
          "output_type": "execute_result",
          "data": {
            "text/plain": [
              "      지점번호 지점명       일시  평균기온(℃)  평균최고기온(℃)  최고기온(℃)    \\t최고기온일자  평균최저기온(℃)  \\\n",
              "0      108  서울  1907-10     13.9       20.2     25.4  1907-10-05        8.3   \n",
              "1      108  서울  1907-11      5.3       10.2     21.3  1907-11-01        0.6   \n",
              "2      108  서울  1907-12     -3.9        0.8      9.0  1907-12-13       -8.7   \n",
              "3      108  서울  1908-01     -3.5        0.1      6.2  1908-01-31       -7.5   \n",
              "4      108  서울  1908-02     -4.0        0.8      8.4  1908-02-27       -8.8   \n",
              "...    ...  ..      ...      ...        ...      ...         ...        ...   \n",
              "1340   108  서울  2020-08     26.5       29.3     34.5  2020-08-26       24.4   \n",
              "1341   108  서울  2020-09     21.4       25.6     29.5  2020-09-01       18.0   \n",
              "1342   108  서울  2020-10     14.3       19.5     23.6  2020-10-01        9.6   \n",
              "1343   108  서울  2020-11      8.0       12.6     20.0  2020-11-17        4.0   \n",
              "1344   108  서울  2020-12     -0.3        3.9     11.4  2020-12-28       -4.2   \n",
              "\n",
              "      최저기온(℃)      최저기온일자  \n",
              "0         3.3  1907-10-24  \n",
              "1        -8.9  1907-11-30  \n",
              "2       -20.1  1907-12-23  \n",
              "3       -14.3  1908-01-22  \n",
              "4       -15.8  1908-02-07  \n",
              "...       ...         ...  \n",
              "1340     21.5  2020-08-23  \n",
              "1341     13.6  2020-09-21  \n",
              "1342      3.2  2020-10-24  \n",
              "1343     -3.6  2020-11-30  \n",
              "1344    -12.9  2020-12-31  \n",
              "\n",
              "[1345 rows x 10 columns]"
            ],
            "text/html": [
              "\n",
              "  <div id=\"df-f414a59a-5a81-453b-86ca-75c4b17f2d4c\">\n",
              "    <div class=\"colab-df-container\">\n",
              "      <div>\n",
              "<style scoped>\n",
              "    .dataframe tbody tr th:only-of-type {\n",
              "        vertical-align: middle;\n",
              "    }\n",
              "\n",
              "    .dataframe tbody tr th {\n",
              "        vertical-align: top;\n",
              "    }\n",
              "\n",
              "    .dataframe thead th {\n",
              "        text-align: right;\n",
              "    }\n",
              "</style>\n",
              "<table border=\"1\" class=\"dataframe\">\n",
              "  <thead>\n",
              "    <tr style=\"text-align: right;\">\n",
              "      <th></th>\n",
              "      <th>지점번호</th>\n",
              "      <th>지점명</th>\n",
              "      <th>일시</th>\n",
              "      <th>평균기온(℃)</th>\n",
              "      <th>평균최고기온(℃)</th>\n",
              "      <th>최고기온(℃)</th>\n",
              "      <th>\\t최고기온일자</th>\n",
              "      <th>평균최저기온(℃)</th>\n",
              "      <th>최저기온(℃)</th>\n",
              "      <th>최저기온일자</th>\n",
              "    </tr>\n",
              "  </thead>\n",
              "  <tbody>\n",
              "    <tr>\n",
              "      <th>0</th>\n",
              "      <td>108</td>\n",
              "      <td>서울</td>\n",
              "      <td>1907-10</td>\n",
              "      <td>13.9</td>\n",
              "      <td>20.2</td>\n",
              "      <td>25.4</td>\n",
              "      <td>1907-10-05</td>\n",
              "      <td>8.3</td>\n",
              "      <td>3.3</td>\n",
              "      <td>1907-10-24</td>\n",
              "    </tr>\n",
              "    <tr>\n",
              "      <th>1</th>\n",
              "      <td>108</td>\n",
              "      <td>서울</td>\n",
              "      <td>1907-11</td>\n",
              "      <td>5.3</td>\n",
              "      <td>10.2</td>\n",
              "      <td>21.3</td>\n",
              "      <td>1907-11-01</td>\n",
              "      <td>0.6</td>\n",
              "      <td>-8.9</td>\n",
              "      <td>1907-11-30</td>\n",
              "    </tr>\n",
              "    <tr>\n",
              "      <th>2</th>\n",
              "      <td>108</td>\n",
              "      <td>서울</td>\n",
              "      <td>1907-12</td>\n",
              "      <td>-3.9</td>\n",
              "      <td>0.8</td>\n",
              "      <td>9.0</td>\n",
              "      <td>1907-12-13</td>\n",
              "      <td>-8.7</td>\n",
              "      <td>-20.1</td>\n",
              "      <td>1907-12-23</td>\n",
              "    </tr>\n",
              "    <tr>\n",
              "      <th>3</th>\n",
              "      <td>108</td>\n",
              "      <td>서울</td>\n",
              "      <td>1908-01</td>\n",
              "      <td>-3.5</td>\n",
              "      <td>0.1</td>\n",
              "      <td>6.2</td>\n",
              "      <td>1908-01-31</td>\n",
              "      <td>-7.5</td>\n",
              "      <td>-14.3</td>\n",
              "      <td>1908-01-22</td>\n",
              "    </tr>\n",
              "    <tr>\n",
              "      <th>4</th>\n",
              "      <td>108</td>\n",
              "      <td>서울</td>\n",
              "      <td>1908-02</td>\n",
              "      <td>-4.0</td>\n",
              "      <td>0.8</td>\n",
              "      <td>8.4</td>\n",
              "      <td>1908-02-27</td>\n",
              "      <td>-8.8</td>\n",
              "      <td>-15.8</td>\n",
              "      <td>1908-02-07</td>\n",
              "    </tr>\n",
              "    <tr>\n",
              "      <th>...</th>\n",
              "      <td>...</td>\n",
              "      <td>...</td>\n",
              "      <td>...</td>\n",
              "      <td>...</td>\n",
              "      <td>...</td>\n",
              "      <td>...</td>\n",
              "      <td>...</td>\n",
              "      <td>...</td>\n",
              "      <td>...</td>\n",
              "      <td>...</td>\n",
              "    </tr>\n",
              "    <tr>\n",
              "      <th>1340</th>\n",
              "      <td>108</td>\n",
              "      <td>서울</td>\n",
              "      <td>2020-08</td>\n",
              "      <td>26.5</td>\n",
              "      <td>29.3</td>\n",
              "      <td>34.5</td>\n",
              "      <td>2020-08-26</td>\n",
              "      <td>24.4</td>\n",
              "      <td>21.5</td>\n",
              "      <td>2020-08-23</td>\n",
              "    </tr>\n",
              "    <tr>\n",
              "      <th>1341</th>\n",
              "      <td>108</td>\n",
              "      <td>서울</td>\n",
              "      <td>2020-09</td>\n",
              "      <td>21.4</td>\n",
              "      <td>25.6</td>\n",
              "      <td>29.5</td>\n",
              "      <td>2020-09-01</td>\n",
              "      <td>18.0</td>\n",
              "      <td>13.6</td>\n",
              "      <td>2020-09-21</td>\n",
              "    </tr>\n",
              "    <tr>\n",
              "      <th>1342</th>\n",
              "      <td>108</td>\n",
              "      <td>서울</td>\n",
              "      <td>2020-10</td>\n",
              "      <td>14.3</td>\n",
              "      <td>19.5</td>\n",
              "      <td>23.6</td>\n",
              "      <td>2020-10-01</td>\n",
              "      <td>9.6</td>\n",
              "      <td>3.2</td>\n",
              "      <td>2020-10-24</td>\n",
              "    </tr>\n",
              "    <tr>\n",
              "      <th>1343</th>\n",
              "      <td>108</td>\n",
              "      <td>서울</td>\n",
              "      <td>2020-11</td>\n",
              "      <td>8.0</td>\n",
              "      <td>12.6</td>\n",
              "      <td>20.0</td>\n",
              "      <td>2020-11-17</td>\n",
              "      <td>4.0</td>\n",
              "      <td>-3.6</td>\n",
              "      <td>2020-11-30</td>\n",
              "    </tr>\n",
              "    <tr>\n",
              "      <th>1344</th>\n",
              "      <td>108</td>\n",
              "      <td>서울</td>\n",
              "      <td>2020-12</td>\n",
              "      <td>-0.3</td>\n",
              "      <td>3.9</td>\n",
              "      <td>11.4</td>\n",
              "      <td>2020-12-28</td>\n",
              "      <td>-4.2</td>\n",
              "      <td>-12.9</td>\n",
              "      <td>2020-12-31</td>\n",
              "    </tr>\n",
              "  </tbody>\n",
              "</table>\n",
              "<p>1345 rows × 10 columns</p>\n",
              "</div>\n",
              "      <button class=\"colab-df-convert\" onclick=\"convertToInteractive('df-f414a59a-5a81-453b-86ca-75c4b17f2d4c')\"\n",
              "              title=\"Convert this dataframe to an interactive table.\"\n",
              "              style=\"display:none;\">\n",
              "        \n",
              "  <svg xmlns=\"http://www.w3.org/2000/svg\" height=\"24px\"viewBox=\"0 0 24 24\"\n",
              "       width=\"24px\">\n",
              "    <path d=\"M0 0h24v24H0V0z\" fill=\"none\"/>\n",
              "    <path d=\"M18.56 5.44l.94 2.06.94-2.06 2.06-.94-2.06-.94-.94-2.06-.94 2.06-2.06.94zm-11 1L8.5 8.5l.94-2.06 2.06-.94-2.06-.94L8.5 2.5l-.94 2.06-2.06.94zm10 10l.94 2.06.94-2.06 2.06-.94-2.06-.94-.94-2.06-.94 2.06-2.06.94z\"/><path d=\"M17.41 7.96l-1.37-1.37c-.4-.4-.92-.59-1.43-.59-.52 0-1.04.2-1.43.59L10.3 9.45l-7.72 7.72c-.78.78-.78 2.05 0 2.83L4 21.41c.39.39.9.59 1.41.59.51 0 1.02-.2 1.41-.59l7.78-7.78 2.81-2.81c.8-.78.8-2.07 0-2.86zM5.41 20L4 18.59l7.72-7.72 1.47 1.35L5.41 20z\"/>\n",
              "  </svg>\n",
              "      </button>\n",
              "      \n",
              "  <style>\n",
              "    .colab-df-container {\n",
              "      display:flex;\n",
              "      flex-wrap:wrap;\n",
              "      gap: 12px;\n",
              "    }\n",
              "\n",
              "    .colab-df-convert {\n",
              "      background-color: #E8F0FE;\n",
              "      border: none;\n",
              "      border-radius: 50%;\n",
              "      cursor: pointer;\n",
              "      display: none;\n",
              "      fill: #1967D2;\n",
              "      height: 32px;\n",
              "      padding: 0 0 0 0;\n",
              "      width: 32px;\n",
              "    }\n",
              "\n",
              "    .colab-df-convert:hover {\n",
              "      background-color: #E2EBFA;\n",
              "      box-shadow: 0px 1px 2px rgba(60, 64, 67, 0.3), 0px 1px 3px 1px rgba(60, 64, 67, 0.15);\n",
              "      fill: #174EA6;\n",
              "    }\n",
              "\n",
              "    [theme=dark] .colab-df-convert {\n",
              "      background-color: #3B4455;\n",
              "      fill: #D2E3FC;\n",
              "    }\n",
              "\n",
              "    [theme=dark] .colab-df-convert:hover {\n",
              "      background-color: #434B5C;\n",
              "      box-shadow: 0px 1px 3px 1px rgba(0, 0, 0, 0.15);\n",
              "      filter: drop-shadow(0px 1px 2px rgba(0, 0, 0, 0.3));\n",
              "      fill: #FFFFFF;\n",
              "    }\n",
              "  </style>\n",
              "\n",
              "      <script>\n",
              "        const buttonEl =\n",
              "          document.querySelector('#df-f414a59a-5a81-453b-86ca-75c4b17f2d4c button.colab-df-convert');\n",
              "        buttonEl.style.display =\n",
              "          google.colab.kernel.accessAllowed ? 'block' : 'none';\n",
              "\n",
              "        async function convertToInteractive(key) {\n",
              "          const element = document.querySelector('#df-f414a59a-5a81-453b-86ca-75c4b17f2d4c');\n",
              "          const dataTable =\n",
              "            await google.colab.kernel.invokeFunction('convertToInteractive',\n",
              "                                                     [key], {});\n",
              "          if (!dataTable) return;\n",
              "\n",
              "          const docLinkHtml = 'Like what you see? Visit the ' +\n",
              "            '<a target=\"_blank\" href=https://colab.research.google.com/notebooks/data_table.ipynb>data table notebook</a>'\n",
              "            + ' to learn more about interactive tables.';\n",
              "          element.innerHTML = '';\n",
              "          dataTable['output_type'] = 'display_data';\n",
              "          await google.colab.output.renderOutput(dataTable, element);\n",
              "          const docLink = document.createElement('div');\n",
              "          docLink.innerHTML = docLinkHtml;\n",
              "          element.appendChild(docLink);\n",
              "        }\n",
              "      </script>\n",
              "    </div>\n",
              "  </div>\n",
              "  "
            ]
          },
          "metadata": {},
          "execution_count": 3
        }
      ]
    },
    {
      "cell_type": "code",
      "source": [
        "gtp = pd.read_csv('/content/drive/MyDrive/gtp_1.csv')"
      ],
      "metadata": {
        "id": "yLceWkJJpCa7"
      },
      "execution_count": null,
      "outputs": []
    },
    {
      "cell_type": "code",
      "source": [
        "gtp"
      ],
      "metadata": {
        "id": "tzgm8X96pCd1"
      },
      "execution_count": null,
      "outputs": []
    },
    {
      "cell_type": "markdown",
      "source": [
        "### **head() , tail()**\n",
        "### **1. gtp.head()**\n",
        "### **2. gtp.tail()**\n",
        "### **3. gtp.tail(10)**\n",
        "### **4. gtp.head(10)**"
      ],
      "metadata": {
        "id": "ywGmwe7nuDX4"
      }
    },
    {
      "cell_type": "code",
      "source": [
        "gtp.head()"
      ],
      "metadata": {
        "id": "UBNaUjTWuDIu"
      },
      "execution_count": null,
      "outputs": []
    },
    {
      "cell_type": "code",
      "source": [
        "gtp.head(10)"
      ],
      "metadata": {
        "id": "sFMfiEzA-Y_0"
      },
      "execution_count": null,
      "outputs": []
    },
    {
      "cell_type": "code",
      "source": [
        "gtp.tail()"
      ],
      "metadata": {
        "id": "d2DPjv8c-gQo"
      },
      "execution_count": null,
      "outputs": []
    },
    {
      "cell_type": "code",
      "source": [
        "gtp.tail(10)"
      ],
      "metadata": {
        "id": "4gETc08G-lPT"
      },
      "execution_count": null,
      "outputs": []
    },
    {
      "cell_type": "markdown",
      "source": [
        "### **integer loction - .iloc[ ]**\n",
        "### **gtp.iloc[ ]**\n",
        "### **1. gtp.iloc[:,:] or gtp.iloc[0:,0:]**\n",
        "### **2. gtp.iloc[:,2]**\n",
        "### **3. gtp.iloc[:,[2,3,5,8]]**"
      ],
      "metadata": {
        "id": "GVdyvbuzwL_e"
      }
    },
    {
      "cell_type": "code",
      "source": [
        "gtp.iloc[ : ,: ]"
      ],
      "metadata": {
        "id": "SbeBQY3SpNRX"
      },
      "execution_count": null,
      "outputs": []
    },
    {
      "cell_type": "code",
      "source": [
        "gtp.iloc[0:,0:]"
      ],
      "metadata": {
        "id": "GclcrvahpgdA"
      },
      "execution_count": null,
      "outputs": []
    },
    {
      "cell_type": "code",
      "source": [
        "gtp.iloc[:,2]"
      ],
      "metadata": {
        "id": "mfpJwHAOIj1r"
      },
      "execution_count": null,
      "outputs": []
    },
    {
      "cell_type": "code",
      "source": [
        "gtp.iloc[:,-3:-1]"
      ],
      "metadata": {
        "id": "4RfwrSpyIj4E"
      },
      "execution_count": null,
      "outputs": []
    },
    {
      "cell_type": "code",
      "source": [
        "gtp.iloc[:,[2,3,5,8]]"
      ],
      "metadata": {
        "id": "BB7QMKTTIj6p"
      },
      "execution_count": null,
      "outputs": []
    },
    {
      "cell_type": "markdown",
      "source": [
        "### **모든 행, 열 일시, 평균기온열 데이터 가져오기**\n",
        "\n",
        "gtp.iloc[:,2:4] 사용합니다. "
      ],
      "metadata": {
        "id": "NTxU_fTLKMxO"
      }
    },
    {
      "cell_type": "code",
      "source": [
        "gtp.iloc[:,2:4]"
      ],
      "metadata": {
        "id": "Fv76CW9MIj9T"
      },
      "execution_count": null,
      "outputs": []
    },
    {
      "cell_type": "markdown",
      "source": [
        "### **gtp.iloc[:,2:4] 불어온 데이터  tp1로 정장합니다.** "
      ],
      "metadata": {
        "id": "W8wGAwCyrYS5"
      }
    },
    {
      "cell_type": "code",
      "source": [
        "tp1=gtp.iloc[:,2:4]\n",
        "tp1"
      ],
      "metadata": {
        "id": "NnorrKTMKdb-"
      },
      "execution_count": null,
      "outputs": []
    },
    {
      "cell_type": "code",
      "source": [
        "tp1.head()"
      ],
      "metadata": {
        "id": "32MJr3o0KmYU"
      },
      "execution_count": null,
      "outputs": []
    },
    {
      "cell_type": "code",
      "source": [
        "tp1.tail()"
      ],
      "metadata": {
        "id": "HRIeIXrqKmhM"
      },
      "execution_count": null,
      "outputs": []
    },
    {
      "cell_type": "markdown",
      "source": [
        "## **변수명 바꾸기**"
      ],
      "metadata": {
        "id": "s--z2YMTK8Z2"
      }
    },
    {
      "cell_type": "markdown",
      "source": [
        "### **tp1.columns = ['date','temperature']**"
      ],
      "metadata": {
        "id": "aWVEFG_DLLbF"
      }
    },
    {
      "cell_type": "code",
      "source": [
        "tp1.columns = ['date','temperature']\n",
        "tp1"
      ],
      "metadata": {
        "id": "tfJMFrOjLbUw"
      },
      "execution_count": null,
      "outputs": []
    },
    {
      "cell_type": "markdown",
      "source": [
        "### **데이터 정보 확인 하기**\n",
        "**tp1.info()**"
      ],
      "metadata": {
        "id": "gENhq5umLhen"
      }
    },
    {
      "cell_type": "code",
      "source": [
        "tp1.info()"
      ],
      "metadata": {
        "id": "k4tOJOQLL2kX"
      },
      "execution_count": null,
      "outputs": []
    },
    {
      "cell_type": "markdown",
      "source": [
        "**에러 방지 하기 위해 복사 (나중에 안해도 됨)**"
      ],
      "metadata": {
        "id": "sVJgSjDuNo96"
      }
    },
    {
      "cell_type": "code",
      "source": [
        "tp2=tp1.copy()"
      ],
      "metadata": {
        "id": "n_Axq2hcNhnv"
      },
      "execution_count": null,
      "outputs": []
    },
    {
      "cell_type": "markdown",
      "source": [
        "**tp1에서 열(date)의 데이터 유형을 date(날짜)로 변환 하는 작업**"
      ],
      "metadata": {
        "id": "zkKEZaMuNyWp"
      }
    },
    {
      "cell_type": "code",
      "source": [
        "tp2['date'] = pd.to_datetime(tp2['date'])"
      ],
      "metadata": {
        "id": "sH-nTIL6OB57"
      },
      "execution_count": null,
      "outputs": []
    },
    {
      "cell_type": "code",
      "source": [
        "tp2.info()"
      ],
      "metadata": {
        "id": "kCKwjxJsOd63"
      },
      "execution_count": null,
      "outputs": []
    },
    {
      "cell_type": "code",
      "source": [
        "tp2.head()"
      ],
      "metadata": {
        "id": "lMGba7iqOpvT"
      },
      "execution_count": null,
      "outputs": []
    },
    {
      "cell_type": "markdown",
      "source": [
        "**column과 index 전환**\n",
        "\n",
        "**데이터 분석 학기 위해 변환 합니다.**\n",
        "\n",
        "tp2.set_index('date',inplace= True)\n",
        "\n",
        "inplace=True: 영구 대체한다. 없으면 임시변환합니다. \n"
      ],
      "metadata": {
        "id": "yQecUCvJOstb"
      }
    },
    {
      "cell_type": "markdown",
      "source": [
        "**임시 변환**"
      ],
      "metadata": {
        "id": "Zp6ptWMU5Px_"
      }
    },
    {
      "cell_type": "code",
      "source": [
        "tp2.set_index('date')"
      ],
      "metadata": {
        "id": "luxNG5PkPE_7"
      },
      "execution_count": null,
      "outputs": []
    },
    {
      "cell_type": "code",
      "source": [
        "tp2"
      ],
      "metadata": {
        "id": "6SVEbzl2P_mk"
      },
      "execution_count": null,
      "outputs": []
    },
    {
      "cell_type": "markdown",
      "source": [
        "아래 명령을 2번 실행하면 error 가 뜹니니다. \n",
        "이유는 이미 전환 했기 때문에 변환 할 것 없습니다. \n",
        "그래서 앞에서 복사 했다. "
      ],
      "metadata": {
        "id": "QzjM4Fil5l8E"
      }
    },
    {
      "cell_type": "code",
      "source": [
        "tp2.set_index('date',inplace=True)\n",
        "tp2"
      ],
      "metadata": {
        "id": "srYIU-UlQLOc"
      },
      "execution_count": null,
      "outputs": []
    },
    {
      "cell_type": "code",
      "source": [
        "tp3=tp2.copy()"
      ],
      "metadata": {
        "id": "gj4PooPPQcog"
      },
      "execution_count": null,
      "outputs": []
    },
    {
      "cell_type": "markdown",
      "source": [
        "## **시각화**\n",
        "\n",
        "**1. plot이용한다.**\n",
        "\n",
        "**2. figsize: 그림 크기 조절** "
      ],
      "metadata": {
        "id": "ZNkPYw51QpG4"
      }
    },
    {
      "cell_type": "code",
      "source": [
        "tp3.plot();"
      ],
      "metadata": {
        "id": "k5XfppvqRUog"
      },
      "execution_count": null,
      "outputs": []
    },
    {
      "cell_type": "code",
      "source": [
        "tp3.plot(figsize=(15,7));"
      ],
      "metadata": {
        "id": "H5h6Ny-0Rqq6"
      },
      "execution_count": null,
      "outputs": []
    },
    {
      "cell_type": "code",
      "source": [
        "tp3['1950':'1954'].plot(figsize=(15,7));"
      ],
      "metadata": {
        "id": "iTsmuxM8SGrj"
      },
      "execution_count": null,
      "outputs": []
    },
    {
      "cell_type": "code",
      "source": [
        "tp3['1950':'1954']"
      ],
      "metadata": {
        "id": "X9IPYTxLSY6Y"
      },
      "execution_count": null,
      "outputs": []
    },
    {
      "cell_type": "code",
      "source": [
        "tp3['1950':'1954'].plot()"
      ],
      "metadata": {
        "id": "a6OKeTKp0xmD"
      },
      "execution_count": null,
      "outputs": []
    },
    {
      "cell_type": "markdown",
      "source": [
        "## **관찰치 없는 이유??**"
      ],
      "metadata": {
        "id": "tsUBHMSaS82n"
      }
    },
    {
      "cell_type": "markdown",
      "source": [
        "### **온도 최고치(max)및 최저치(min)**\n",
        "\n",
        "tp3.max()\n",
        "\n",
        "tp3.min() "
      ],
      "metadata": {
        "id": "LAnO6u9mTDAD"
      }
    },
    {
      "cell_type": "code",
      "source": [
        "tp3.max()"
      ],
      "metadata": {
        "id": "xsjHbijKTXjl"
      },
      "execution_count": null,
      "outputs": []
    },
    {
      "cell_type": "code",
      "source": [
        "tp3.min()"
      ],
      "metadata": {
        "id": "LL4uQDE1TX2U"
      },
      "execution_count": null,
      "outputs": []
    },
    {
      "cell_type": "code",
      "source": [
        "tp3[tp3['temperature'] == 28.8]"
      ],
      "metadata": {
        "id": "ErWktEcqTfy4"
      },
      "execution_count": null,
      "outputs": []
    },
    {
      "cell_type": "code",
      "source": [
        "tp3[tp3['temperature'] == -9.1]"
      ],
      "metadata": {
        "id": "9EOgHsayT4Rs"
      },
      "execution_count": null,
      "outputs": []
    },
    {
      "cell_type": "markdown",
      "source": [
        "## **연 평균 기온 보기** \n",
        "\n",
        "tp3.resample('Y').mean()"
      ],
      "metadata": {
        "id": "Y09fr5yZUhYq"
      }
    },
    {
      "cell_type": "code",
      "source": [
        "tp3.resample('Y').mean()"
      ],
      "metadata": {
        "id": "v3yzFblNVCV3"
      },
      "execution_count": null,
      "outputs": []
    },
    {
      "cell_type": "code",
      "source": [
        "tp_year = tp3.resample('Y').mean()\n",
        "tp_year.plot(figsize=(15,7));"
      ],
      "metadata": {
        "id": "Vy1M2PauyCY9"
      },
      "execution_count": null,
      "outputs": []
    },
    {
      "cell_type": "code",
      "source": [
        "tp_year['1975':'2019'].plot(figsize=(15,7)); # 법위를 설정한다. "
      ],
      "metadata": {
        "id": "-mdOGpqVypFa"
      },
      "execution_count": null,
      "outputs": []
    },
    {
      "cell_type": "code",
      "source": [
        "#a=tp_year['1919']\n",
        "a=tp_year.loc['1919']\n",
        "a"
      ],
      "metadata": {
        "id": "lQutmhDTzN1_"
      },
      "execution_count": null,
      "outputs": []
    },
    {
      "cell_type": "code",
      "source": [
        "b=tp_year.loc['2019']\n",
        "b"
      ],
      "metadata": {
        "id": "HUWpaY7d0BVE"
      },
      "execution_count": null,
      "outputs": []
    },
    {
      "cell_type": "code",
      "source": [
        "b.values - a.values"
      ],
      "metadata": {
        "id": "MuCFJt500NfQ"
      },
      "execution_count": null,
      "outputs": []
    },
    {
      "cell_type": "code",
      "source": [
        "print(a,b)"
      ],
      "metadata": {
        "id": "G4WdnlE12FCE"
      },
      "execution_count": null,
      "outputs": []
    },
    {
      "cell_type": "code",
      "source": [
        "d = {'price': [10, 11, 9, 13, 14, 18, 17, 19],\n",
        "          'volume': [50, 60, 40, 100, 50, 100, 40, 50]}\n",
        "df = pd.DataFrame.from_dict(d)\n",
        "df\n",
        "\n",
        "# df['week_starting'] = pd.date_range('01/01/2018',periods=8,freq='W')\n",
        "# df"
      ],
      "metadata": {
        "id": "EcVXwFwJZyAZ"
      },
      "execution_count": null,
      "outputs": []
    },
    {
      "cell_type": "code",
      "source": [
        "df.info()"
      ],
      "metadata": {
        "id": "2j0u-yh7awQn"
      },
      "execution_count": null,
      "outputs": []
    },
    {
      "cell_type": "code",
      "source": [
        "df.set_index('price',inplace=True)\n",
        "df"
      ],
      "metadata": {
        "id": "wRcYrFgNcp3L"
      },
      "execution_count": null,
      "outputs": []
    },
    {
      "cell_type": "code",
      "source": [
        "df.reset_index()"
      ],
      "metadata": {
        "id": "FLyAWrCHfJjR"
      },
      "execution_count": null,
      "outputs": []
    }
  ]
}